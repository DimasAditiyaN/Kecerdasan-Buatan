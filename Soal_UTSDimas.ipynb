{
 "cells": [
  {
   "cell_type": "markdown",
   "metadata": {
    "id": "QiGcp6j9_QSz"
   },
   "source": [
    "## Soal UTS"
   ]
  },
  {
   "cell_type": "code",
   "execution_count": null,
   "metadata": {},
   "outputs": [],
   "source": [
    "\n",
    "# Data\n",
    "\n",
    "company_detail_list = [\n",
    "      {\n",
    "          'name': 'Company 1',\n",
    "          'domain': 'Retail',\n",
    "          'country': 'United States'\n",
    "      },\n",
    "      {\n",
    "          'name': 'Company 2',\n",
    "          'domain': 'Technology',\n",
    "          'country': 'United Kingdom'\n",
    "      },\n",
    "      {\n",
    "          'name': 'Company 3',\n",
    "          'domain': 'Healthcare',\n",
    "          'country': 'United States'\n",
    "      }\n",
    "  ]\n",
    "\n",
    "employee_detail_list = [\n",
    "     {\n",
    "          'name': 'EMP-0001',\n",
    "          'first_name': 'John',\n",
    "          'last_name': 'Doe',\n",
    "          'full_name': 'John Doe',\n",
    "          'company': 'Company 1',\n",
    "          'nationality': 'Australia'\n",
    "      },\n",
    "      {\n",
    "          'name': 'EMP-0002',\n",
    "          'first_name': 'Tom',\n",
    "          'last_name': 'Smith',\n",
    "          'full_name': 'Tom Smith',\n",
    "          'company': 'Company 2',\n",
    "          'nationality': 'United States'\n",
    "      },\n",
    "      {\n",
    "          'name': 'EMP-0003',\n",
    "          'first_name': 'Andrew',\n",
    "          'last_name': 'Sebastian',\n",
    "          'full_name': 'Andrew Sebastian',\n",
    "          'company': 'Company 3',\n",
    "          'nationality': 'United States'\n",
    "      },\n",
    "      {\n",
    "          'name': 'EMP-0005',\n",
    "          'first_name': 'Ying Han',\n",
    "          'last_name': 'Tan',\n",
    "          'full_name': 'Ying Han Tan',\n",
    "          'company': 'Company 1',\n",
    "          'nationality': 'Australia'\n",
    "      },\n",
    "      {\n",
    "          'name': 'EMP-0015',\n",
    "          'first_name': 'Kenneth',\n",
    "          'last_name': 'Ng',\n",
    "          'full_name': 'Kenneth Ng',\n",
    "          'company': 'Company 3',\n",
    "          'nationality': 'United States'\n",
    "      },\n",
    "      {\n",
    "          'name': 'EMP-0018',\n",
    "          'first_name': 'Rubby',\n",
    "          'last_name': 'Lee',\n",
    "          'full_name': 'Rubby Lee',\n",
    "          'company': 'Company 2',\n",
    "          'nationality': 'Hong Kong'\n",
    "      },\n",
    "     {\n",
    "          'name': 'EMP-0017',\n",
    "          'first_name': 'Robert',\n",
    "          'last_name': 'White',\n",
    "          'full_name': 'Robert White',\n",
    "          'company': 'Company 1',\n",
    "          'nationality': 'United Kingdom'\n",
    "      }\n",
    "  ]\n"
   ]
  },
  {
   "cell_type": "markdown",
   "metadata": {
    "id": "hxAkwucFjatO"
   },
   "source": [
    "The next few cells will show some examples on how to interact with our functions. Note that some of these function calls could be useful for you in completing the tasks below. "
   ]
  },
  {
   "cell_type": "markdown",
   "metadata": {
    "id": "097eOYQ-U5V2",
    "jp-MarkdownHeadingCollapsed": true
   },
   "source": []
  },
  {
   "cell_type": "code",
   "execution_count": null,
   "metadata": {},
   "outputs": [],
   "source": [
    "## Task 1\n",
    "\n",
    "Please get the list of all Companies and sort by **Company Name** in reverse order.\n",
    "\n",
    "Expected result:\n",
    "\n",
    "\n",
    "```json\n",
    "[{\n",
    "    \"name\": \"Company 3\"\n",
    "}, {\n",
    "    \"name\": \"Company 2\"\n",
    "}, {\n",
    "    \"name\": \"Company 1\"\n",
    "}]\n",
    "```\n"
   ]
  },
  {
   "cell_type": "code",
   "execution_count": 4,
   "metadata": {},
   "outputs": [
    {
     "name": "stdout",
     "output_type": "stream",
     "text": [
      "[{'name': 'Company 3'}, {'name': 'Company 2'}, {'name': 'Company 1'}]\n"
     ]
    }
   ],
   "source": [
    "def get_sorted_companies(company_detail_list):\n",
    "    sorted_companies = sorted(company_detail_list, key=lambda x: x['name'], reverse=True)\n",
    "    return [{'name': company['name']} for company in sorted_companies]\n",
    "\n",
    "# Example usage\n",
    "sorted_companies = get_sorted_companies(company_detail_list)\n",
    "print(sorted_companies)\n"
   ]
  },
  {
   "cell_type": "markdown",
   "metadata": {},
   "source": []
  },
  {
   "cell_type": "markdown",
   "metadata": {},
   "source": [
    "\n"
   ]
  },
  {
   "cell_type": "code",
   "execution_count": null,
   "metadata": {
    "id": "sFbEZt5JoxMJ"
   },
   "outputs": [],
   "source": [
    "## Soal 2\n",
    "\n",
    "Please print all Domain value in every company (use print statement).\n",
    "\n",
    "Expected return:\n",
    "\n",
    "```\n",
    "    Company 1: Retail (United States)\n",
    "    Company 2: Technology (United Kingdom)\n",
    "    Company 3: Healthcare (United States)\n",
    "```\n",
    "\n",
    "\n"
   ]
  },
  {
   "cell_type": "code",
   "execution_count": 5,
   "metadata": {},
   "outputs": [
    {
     "name": "stdout",
     "output_type": "stream",
     "text": [
      "Company 1: Retail (United States)\n",
      "Company 2: Technology (United Kingdom)\n",
      "Company 3: Healthcare (United States)\n"
     ]
    }
   ],
   "source": [
    "def print_company_domains(company_detail_list):\n",
    "    for company in company_detail_list:\n",
    "        print(f\"{company['name']}: {company['domain']} ({company['country']})\")\n",
    "\n",
    "# Example usage\n",
    "print_company_domains(company_detail_list)\n"
   ]
  },
  {
   "cell_type": "code",
   "execution_count": null,
   "metadata": {
    "id": "d617U0r8wvOd"
   },
   "outputs": [],
   "source": [
    "## Task 3\n",
    "\n",
    "List all Employees work By company domain.\n",
    "\n",
    "Expected return:\n",
    "\n",
    "```json\n",
    "{\n",
    "    \"Retail\": [\n",
    "         \"John Doe\",\n",
    "         \"Robert White\",\n",
    "         \"Ying Han Tan\"\n",
    "     ],\n",
    "    \"Technology\":[\n",
    "          \"Tom Smith\",\n",
    "          \"Rubby Lee\",\n",
    "     ],\n",
    "    \"Healthcare\": [\n",
    "         \"Kenneth Ng\",\n",
    "         \"Andrew Sebastian\"\n",
    "     ],\n",
    "}\n",
    "```\n",
    "\n"
   ]
  },
  {
   "cell_type": "code",
   "execution_count": 6,
   "metadata": {},
   "outputs": [
    {
     "name": "stdout",
     "output_type": "stream",
     "text": [
      "{'Retail': ['John Doe', 'Ying Han Tan', 'Robert White'], 'Technology': ['Tom Smith', 'Rubby Lee'], 'Healthcare': ['Andrew Sebastian', 'Kenneth Ng']}\n"
     ]
    }
   ],
   "source": [
    "def list_employees_by_domain(company_detail_list, employee_detail_list):\n",
    "    domain_employees = {}\n",
    "    for company in company_detail_list:\n",
    "        domain_employees[company['domain']] = []\n",
    "\n",
    "    for employee in employee_detail_list:\n",
    "        company_name = employee['company']\n",
    "        for company in company_detail_list:\n",
    "            if company['name'] == company_name:\n",
    "                domain_employees[company['domain']].append(employee['full_name'])\n",
    "\n",
    "    return domain_employees\n",
    "\n",
    "\n",
    "employees_by_domain = list_employees_by_domain(company_detail_list, employee_detail_list)\n",
    "print(employees_by_domain)\n"
   ]
  },
  {
   "cell_type": "code",
   "execution_count": null,
   "metadata": {
    "id": "-a7IODNT3w0F"
   },
   "outputs": [],
   "source": [
    "## Task 4\n",
    "\n",
    "Create a function that return employees with it's company country.\n",
    "\n",
    "Expected return:\n",
    "\n",
    "\n",
    "```json\n",
    "[{\n",
    "    \"full_name\": \"John Doe\",\n",
    "    \"company\": \"Company 1\",\n",
    "    \"country\": \"United States\"\n",
    "}, {\n",
    "    \"full_name\": \"Tom Smith\",\n",
    "    \"company\": \"Company 2\",\n",
    "    \"country\": \"United Kingdom\"\n",
    "}, {\n",
    "    \"full_name\": \"Andrew Sebastian\",\n",
    "    \"company\": \"Company 3\",\n",
    "    \"country\": \"United Kingdom\"\n",
    "},  {\n",
    "    \"full_name\": \"Ying Han Tan\",\n",
    "    \"company\": \"Company 1\",\n",
    "    \"country\": \"United States\"\n",
    "},  {\n",
    "    \"full_name\": \"Kenneth Ng\",\n",
    "    \"company\": \"Company 3\",\n",
    "    \"country\": \"United States\"\n",
    "},  {\n",
    "    \"full_name\": \"Rubby Lee\",\n",
    "    \"company\": \"Company 2\",\n",
    "    \"country\": \"United Kingdom\"\n",
    "},   {\n",
    "    \"full_name\": \"Robert White\",\n",
    "    \"company\": \"Company 1\",\n",
    "    \"country\": \"United States\"\n",
    "},\n",
    "    \n",
    "]\n",
    "```\n",
    "\n"
   ]
  },
  {
   "cell_type": "code",
   "execution_count": 7,
   "metadata": {},
   "outputs": [
    {
     "name": "stdout",
     "output_type": "stream",
     "text": [
      "[{'full_name': 'John Doe', 'company': 'Company 1', 'country': 'United States'}, {'full_name': 'Tom Smith', 'company': 'Company 2', 'country': 'United Kingdom'}, {'full_name': 'Andrew Sebastian', 'company': 'Company 3', 'country': 'United States'}, {'full_name': 'Ying Han Tan', 'company': 'Company 1', 'country': 'United States'}, {'full_name': 'Kenneth Ng', 'company': 'Company 3', 'country': 'United States'}, {'full_name': 'Rubby Lee', 'company': 'Company 2', 'country': 'United Kingdom'}, {'full_name': 'Robert White', 'company': 'Company 1', 'country': 'United States'}]\n"
     ]
    }
   ],
   "source": [
    "def get_employees_with_country(company_detail_list, employee_detail_list):\n",
    "    employee_country_info = []\n",
    "    company_country_map = {company['name']: company['country'] for company in company_detail_list}\n",
    "\n",
    "    for employee in employee_detail_list:\n",
    "        employee_country_info.append({\n",
    "            'full_name': employee['full_name'],\n",
    "            'company': employee['company'],\n",
    "            'country': company_country_map[employee['company']]\n",
    "        })\n",
    "\n",
    "    return employee_country_info\n",
    "\n",
    "\n",
    "employees_with_country = get_employees_with_country(company_detail_list, employee_detail_list)\n",
    "print(employees_with_country)\n",
    "\n"
   ]
  },
  {
   "cell_type": "code",
   "execution_count": null,
   "metadata": {
    "id": "TXhXCiOrFcev"
   },
   "outputs": [],
   "source": [
    "## Task 5\n",
    "\n",
    "Create a function that return companies with a number of employees nationality that are working in the company.\n",
    "\n",
    "Expected return:\n",
    "\n",
    "\n",
    "```json\n",
    "[{\n",
    "    \"company\": \"Company 1\",\n",
    "    \"employee_nationality\": {\n",
    "        \"Australia\": 2,\n",
    "        \"Hong Kong\": 1\n",
    "    }\n",
    "}, {\n",
    "    \"company\": \"Company 2\",\n",
    "    \"employee_nationality\": {\n",
    "        \"Hong Kong\": 1,\n",
    "        \"United States\": 1\n",
    "    }\n",
    "}, {\n",
    "    \"company\": \"Company 3\",\n",
    "    \"employee_nationality\": {\n",
    "        \"United States\": 2\n",
    "    }\n",
    "}]\n",
    "```\n"
   ]
  },
  {
   "cell_type": "code",
   "execution_count": 9,
   "metadata": {},
   "outputs": [
    {
     "name": "stdout",
     "output_type": "stream",
     "text": [
      "[{'company': 'Company 1', 'employee_nationality': {'Australia': 2, 'United Kingdom': 1}}, {'company': 'Company 2', 'employee_nationality': {'United States': 1, 'Hong Kong': 1}}, {'company': 'Company 3', 'employee_nationality': {'United States': 2}}]\n"
     ]
    }
   ],
   "source": [
    "def get_company_employee_nationality(company_detail_list, employee_detail_list):\n",
    "    nationality_count = {}\n",
    "\n",
    "    for employee in employee_detail_list:\n",
    "        company_name = employee['company']\n",
    "        nationality = employee['nationality']\n",
    "        \n",
    "        if company_name not in nationality_count:\n",
    "            nationality_count[company_name] = {}\n",
    "        \n",
    "        if nationality not in nationality_count[company_name]:\n",
    "            nationality_count[company_name][nationality] = 0\n",
    "        \n",
    "        nationality_count[company_name][nationality] += 1\n",
    "\n",
    "    company_nationality_info = []\n",
    "    for company in company_detail_list:\n",
    "        company_name = company['name']\n",
    "        company_nationality_info.append({\n",
    "            'company': company_name,\n",
    "            'employee_nationality': nationality_count.get(company_name, {})\n",
    "        })\n",
    "\n",
    "    return company_nationality_info\n",
    "\n",
    "# Example usage\n",
    "company_nationality_info = get_company_employee_nationality(company_detail_list, employee_detail_list)\n",
    "print(company_nationality_info)\n",
    "\n"
   ]
  }
 ],
 "metadata": {
  "colab": {
   "collapsed_sections": [],
   "name": "AT Backend Test.ipynb",
   "provenance": [
    {
     "file_id": "1vK5VvfGC3SQ_onwiFXNdtvWQRvHAbeZa",
     "timestamp": 1650627195682
    },
    {
     "file_id": "1hHOgmPPwUDtWvGuaz2tuclaa6MJYUmIm",
     "timestamp": 1650504460415
    },
    {
     "file_id": "1HSO3CG0-7R5jptBBEx-CDHIDRjXgXmrl",
     "timestamp": 1650255042674
    }
   ]
  },
  "kernelspec": {
   "display_name": "Python 3 (ipykernel)",
   "language": "python",
   "name": "python3"
  },
  "language_info": {
   "codemirror_mode": {
    "name": "ipython",
    "version": 3
   },
   "file_extension": ".py",
   "mimetype": "text/x-python",
   "name": "python",
   "nbconvert_exporter": "python",
   "pygments_lexer": "ipython3",
   "version": "3.12.6"
  }
 },
 "nbformat": 4,
 "nbformat_minor": 4
}
